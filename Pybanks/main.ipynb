{
 "cells": [
  {
   "cell_type": "code",
   "execution_count": 1,
   "id": "69b38448-3f84-4a31-b783-b9ebf32514b8",
   "metadata": {},
   "outputs": [
    {
     "name": "stdout",
     "output_type": "stream",
     "text": [
      "        Date  Profit/Losses\n",
      "0   Jan-2010         867884\n",
      "1   Feb-2010         984655\n",
      "2   Mar-2010         322013\n",
      "3   Apr-2010         -69417\n",
      "4   May-2010         310503\n",
      "..       ...            ...\n",
      "81  Oct-2016         102685\n",
      "82  Nov-2016         795914\n",
      "83  Dec-2016          60988\n",
      "84  Jan-2017         138230\n",
      "85  Feb-2017         671099\n",
      "\n",
      "[86 rows x 2 columns]\n"
     ]
    }
   ],
   "source": [
    "import numpy as np \n",
    "import pandas as pd  \n",
    "import csv\n",
    "\n",
    "\n",
    "file_path=\"PyBank_Resources_budget_data.csv\"\n",
    "ds = pd.read_csv (file_path)\n",
    "print (ds)"
   ]
  },
  {
   "cell_type": "code",
   "execution_count": 2,
   "id": "9556c7fd-604d-447b-8f57-5f674f82c180",
   "metadata": {},
   "outputs": [
    {
     "data": {
      "text/html": [
       "<div>\n",
       "<style scoped>\n",
       "    .dataframe tbody tr th:only-of-type {\n",
       "        vertical-align: middle;\n",
       "    }\n",
       "\n",
       "    .dataframe tbody tr th {\n",
       "        vertical-align: top;\n",
       "    }\n",
       "\n",
       "    .dataframe thead th {\n",
       "        text-align: right;\n",
       "    }\n",
       "</style>\n",
       "<table border=\"1\" class=\"dataframe\">\n",
       "  <thead>\n",
       "    <tr style=\"text-align: right;\">\n",
       "      <th></th>\n",
       "      <th>Date</th>\n",
       "      <th>Profit/Losses</th>\n",
       "      <th>change</th>\n",
       "    </tr>\n",
       "  </thead>\n",
       "  <tbody>\n",
       "    <tr>\n",
       "      <th>0</th>\n",
       "      <td>Jan-2010</td>\n",
       "      <td>867884</td>\n",
       "      <td>NaN</td>\n",
       "    </tr>\n",
       "    <tr>\n",
       "      <th>1</th>\n",
       "      <td>Feb-2010</td>\n",
       "      <td>984655</td>\n",
       "      <td>867884.0</td>\n",
       "    </tr>\n",
       "    <tr>\n",
       "      <th>2</th>\n",
       "      <td>Mar-2010</td>\n",
       "      <td>322013</td>\n",
       "      <td>984655.0</td>\n",
       "    </tr>\n",
       "    <tr>\n",
       "      <th>3</th>\n",
       "      <td>Apr-2010</td>\n",
       "      <td>-69417</td>\n",
       "      <td>322013.0</td>\n",
       "    </tr>\n",
       "    <tr>\n",
       "      <th>4</th>\n",
       "      <td>May-2010</td>\n",
       "      <td>310503</td>\n",
       "      <td>-69417.0</td>\n",
       "    </tr>\n",
       "    <tr>\n",
       "      <th>...</th>\n",
       "      <td>...</td>\n",
       "      <td>...</td>\n",
       "      <td>...</td>\n",
       "    </tr>\n",
       "    <tr>\n",
       "      <th>81</th>\n",
       "      <td>Oct-2016</td>\n",
       "      <td>102685</td>\n",
       "      <td>768450.0</td>\n",
       "    </tr>\n",
       "    <tr>\n",
       "      <th>82</th>\n",
       "      <td>Nov-2016</td>\n",
       "      <td>795914</td>\n",
       "      <td>102685.0</td>\n",
       "    </tr>\n",
       "    <tr>\n",
       "      <th>83</th>\n",
       "      <td>Dec-2016</td>\n",
       "      <td>60988</td>\n",
       "      <td>795914.0</td>\n",
       "    </tr>\n",
       "    <tr>\n",
       "      <th>84</th>\n",
       "      <td>Jan-2017</td>\n",
       "      <td>138230</td>\n",
       "      <td>60988.0</td>\n",
       "    </tr>\n",
       "    <tr>\n",
       "      <th>85</th>\n",
       "      <td>Feb-2017</td>\n",
       "      <td>671099</td>\n",
       "      <td>138230.0</td>\n",
       "    </tr>\n",
       "  </tbody>\n",
       "</table>\n",
       "<p>86 rows × 3 columns</p>\n",
       "</div>"
      ],
      "text/plain": [
       "        Date  Profit/Losses    change\n",
       "0   Jan-2010         867884       NaN\n",
       "1   Feb-2010         984655  867884.0\n",
       "2   Mar-2010         322013  984655.0\n",
       "3   Apr-2010         -69417  322013.0\n",
       "4   May-2010         310503  -69417.0\n",
       "..       ...            ...       ...\n",
       "81  Oct-2016         102685  768450.0\n",
       "82  Nov-2016         795914  102685.0\n",
       "83  Dec-2016          60988  795914.0\n",
       "84  Jan-2017         138230   60988.0\n",
       "85  Feb-2017         671099  138230.0\n",
       "\n",
       "[86 rows x 3 columns]"
      ]
     },
     "execution_count": 2,
     "metadata": {},
     "output_type": "execute_result"
    }
   ],
   "source": [
    "ds.describe()\n",
    "ds[\"change\"] = ds[\"Profit/Losses\"].shift(1)\n",
    "ds"
   ]
  },
  {
   "cell_type": "code",
   "execution_count": 3,
   "id": "bdea9913-3828-459b-b309-c01459d99b7b",
   "metadata": {},
   "outputs": [],
   "source": [
    "months = len(ds[\"Date\"])"
   ]
  },
  {
   "cell_type": "code",
   "execution_count": 4,
   "id": "07693444-9e76-4329-9c93-b8102082c1cb",
   "metadata": {},
   "outputs": [
    {
     "name": "stdout",
     "output_type": "stream",
     "text": [
      "There are a total of: 86 months\n"
     ]
    }
   ],
   "source": [
    "\n",
    "print (f\"There are a total of: {months} months\")"
   ]
  },
  {
   "cell_type": "code",
   "execution_count": 5,
   "id": "e4d91f3d-52aa-44ba-89df-a2ac6b856efa",
   "metadata": {},
   "outputs": [
    {
     "data": {
      "text/html": [
       "<div>\n",
       "<style scoped>\n",
       "    .dataframe tbody tr th:only-of-type {\n",
       "        vertical-align: middle;\n",
       "    }\n",
       "\n",
       "    .dataframe tbody tr th {\n",
       "        vertical-align: top;\n",
       "    }\n",
       "\n",
       "    .dataframe thead th {\n",
       "        text-align: right;\n",
       "    }\n",
       "</style>\n",
       "<table border=\"1\" class=\"dataframe\">\n",
       "  <thead>\n",
       "    <tr style=\"text-align: right;\">\n",
       "      <th></th>\n",
       "      <th>Date</th>\n",
       "      <th>Profit/Losses</th>\n",
       "      <th>change</th>\n",
       "      <th>Difference</th>\n",
       "    </tr>\n",
       "  </thead>\n",
       "  <tbody>\n",
       "    <tr>\n",
       "      <th>0</th>\n",
       "      <td>Jan-2010</td>\n",
       "      <td>867884</td>\n",
       "      <td>NaN</td>\n",
       "      <td>NaN</td>\n",
       "    </tr>\n",
       "    <tr>\n",
       "      <th>1</th>\n",
       "      <td>Feb-2010</td>\n",
       "      <td>984655</td>\n",
       "      <td>867884.0</td>\n",
       "      <td>116771.0</td>\n",
       "    </tr>\n",
       "    <tr>\n",
       "      <th>2</th>\n",
       "      <td>Mar-2010</td>\n",
       "      <td>322013</td>\n",
       "      <td>984655.0</td>\n",
       "      <td>-662642.0</td>\n",
       "    </tr>\n",
       "    <tr>\n",
       "      <th>3</th>\n",
       "      <td>Apr-2010</td>\n",
       "      <td>-69417</td>\n",
       "      <td>322013.0</td>\n",
       "      <td>-391430.0</td>\n",
       "    </tr>\n",
       "    <tr>\n",
       "      <th>4</th>\n",
       "      <td>May-2010</td>\n",
       "      <td>310503</td>\n",
       "      <td>-69417.0</td>\n",
       "      <td>379920.0</td>\n",
       "    </tr>\n",
       "    <tr>\n",
       "      <th>...</th>\n",
       "      <td>...</td>\n",
       "      <td>...</td>\n",
       "      <td>...</td>\n",
       "      <td>...</td>\n",
       "    </tr>\n",
       "    <tr>\n",
       "      <th>81</th>\n",
       "      <td>Oct-2016</td>\n",
       "      <td>102685</td>\n",
       "      <td>768450.0</td>\n",
       "      <td>-665765.0</td>\n",
       "    </tr>\n",
       "    <tr>\n",
       "      <th>82</th>\n",
       "      <td>Nov-2016</td>\n",
       "      <td>795914</td>\n",
       "      <td>102685.0</td>\n",
       "      <td>693229.0</td>\n",
       "    </tr>\n",
       "    <tr>\n",
       "      <th>83</th>\n",
       "      <td>Dec-2016</td>\n",
       "      <td>60988</td>\n",
       "      <td>795914.0</td>\n",
       "      <td>-734926.0</td>\n",
       "    </tr>\n",
       "    <tr>\n",
       "      <th>84</th>\n",
       "      <td>Jan-2017</td>\n",
       "      <td>138230</td>\n",
       "      <td>60988.0</td>\n",
       "      <td>77242.0</td>\n",
       "    </tr>\n",
       "    <tr>\n",
       "      <th>85</th>\n",
       "      <td>Feb-2017</td>\n",
       "      <td>671099</td>\n",
       "      <td>138230.0</td>\n",
       "      <td>532869.0</td>\n",
       "    </tr>\n",
       "  </tbody>\n",
       "</table>\n",
       "<p>86 rows × 4 columns</p>\n",
       "</div>"
      ],
      "text/plain": [
       "        Date  Profit/Losses    change  Difference\n",
       "0   Jan-2010         867884       NaN         NaN\n",
       "1   Feb-2010         984655  867884.0    116771.0\n",
       "2   Mar-2010         322013  984655.0   -662642.0\n",
       "3   Apr-2010         -69417  322013.0   -391430.0\n",
       "4   May-2010         310503  -69417.0    379920.0\n",
       "..       ...            ...       ...         ...\n",
       "81  Oct-2016         102685  768450.0   -665765.0\n",
       "82  Nov-2016         795914  102685.0    693229.0\n",
       "83  Dec-2016          60988  795914.0   -734926.0\n",
       "84  Jan-2017         138230   60988.0     77242.0\n",
       "85  Feb-2017         671099  138230.0    532869.0\n",
       "\n",
       "[86 rows x 4 columns]"
      ]
     },
     "execution_count": 5,
     "metadata": {},
     "output_type": "execute_result"
    }
   ],
   "source": [
    "ds[\"Difference\"] = ds[\"Profit/Losses\"] - ds[\"change\"]\n",
    "ds"
   ]
  },
  {
   "cell_type": "code",
   "execution_count": 6,
   "id": "1d066dce-ba1d-47c3-9597-5feb53940cd3",
   "metadata": {},
   "outputs": [
    {
     "name": "stdout",
     "output_type": "stream",
     "text": [
      "Your total profit/losses is: 38382578\n"
     ]
    }
   ],
   "source": [
    "total = sum(ds[\"Profit/Losses\"])\n",
    "print (f\"Your total profit/losses is: {total}\")"
   ]
  },
  {
   "cell_type": "code",
   "execution_count": 7,
   "id": "ed05d108-99c8-4c8b-9c26-51ee46692bcb",
   "metadata": {},
   "outputs": [],
   "source": [
    "min_value = ds[\"Profit/Losses\"].min()"
   ]
  },
  {
   "cell_type": "code",
   "execution_count": 8,
   "id": "ec1c85a3-ee26-4918-b41b-645a8e870bef",
   "metadata": {},
   "outputs": [
    {
     "name": "stdout",
     "output_type": "stream",
     "text": [
      "1170593\n"
     ]
    }
   ],
   "source": [
    "max_value = ds[\"Profit/Losses\"].max()\n",
    "print (max_value)"
   ]
  },
  {
   "cell_type": "code",
   "execution_count": 9,
   "id": "6dfcf093-bf36-45e7-be34-4d93f1fbcf4a",
   "metadata": {},
   "outputs": [
    {
     "name": "stdout",
     "output_type": "stream",
     "text": [
      "-2315.1176470588234\n"
     ]
    }
   ],
   "source": [
    "min_date= ds.min()[0]\n",
    "max_date = ds.max()[0]\n",
    "average_change = ds[\"Difference\"].mean()\n",
    "print(average_change)"
   ]
  },
  {
   "cell_type": "code",
   "execution_count": 10,
   "id": "4ab845e7-1fc6-4fca-b77d-e34ae195d24e",
   "metadata": {},
   "outputs": [],
   "source": [
    "average = round(average_change, 2)"
   ]
  },
  {
   "cell_type": "code",
   "execution_count": 11,
   "id": "b6c3bda6-3274-4a3e-943f-7d33cc602973",
   "metadata": {},
   "outputs": [],
   "source": [
    "with open(\"Pybank.txt\", \"w+\") as text_file:\n",
    "    print(f\"   Financial Analysis    \", file = text_file)\n",
    "    print('---------------------------', file = text_file)\n",
    "    print(f\"Total Months:{months}\", file=text_file)\n",
    "    print(f\"Total: ${total}\",file=text_file)\n",
    "    print(f\"Average  Change: ${average}\",file=text_file)\n",
    "    print(f\"Greatest Increase in Profits: {max_date} ${max_value}\", file=text_file)\n",
    "    print(f\"Greatest Decrease in Profits: {min_date} ${min_value}\",file=text_file)"
   ]
  },
  {
   "cell_type": "code",
   "execution_count": null,
   "id": "2876646c-06f3-448b-af8c-c485915654b8",
   "metadata": {},
   "outputs": [],
   "source": []
  },
  {
   "cell_type": "code",
   "execution_count": 90,
   "id": "de7d54bb-2255-4a67-834d-dc69cf907cd7",
   "metadata": {},
   "outputs": [
    {
     "data": {
      "text/plain": [
       "48"
      ]
     },
     "execution_count": 90,
     "metadata": {},
     "output_type": "execute_result"
    }
   ],
   "source": [
    "\n"
   ]
  },
  {
   "cell_type": "code",
   "execution_count": 94,
   "id": "4a300ca4-0a85-4a46-bb8a-45bc4e67d258",
   "metadata": {},
   "outputs": [],
   "source": []
  },
  {
   "cell_type": "code",
   "execution_count": null,
   "id": "ddc06d57-90c7-422a-846c-68bdc92d9fd8",
   "metadata": {},
   "outputs": [],
   "source": []
  }
 ],
 "metadata": {
  "kernelspec": {
   "display_name": "Python 3",
   "language": "python",
   "name": "python3"
  },
  "language_info": {
   "codemirror_mode": {
    "name": "ipython",
    "version": 3
   },
   "file_extension": ".py",
   "mimetype": "text/x-python",
   "name": "python",
   "nbconvert_exporter": "python",
   "pygments_lexer": "ipython3",
   "version": "3.8.5"
  }
 },
 "nbformat": 4,
 "nbformat_minor": 5
}
